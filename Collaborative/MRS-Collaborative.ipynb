{
 "cells": [
  {
   "cell_type": "code",
   "execution_count": 1,
   "metadata": {},
   "outputs": [
    {
     "name": "stderr",
     "output_type": "stream",
     "text": [
      "C:\\Users\\srila\\anaconda3\\lib\\site-packages\\fuzzywuzzy\\fuzz.py:11: UserWarning: Using slow pure-python SequenceMatcher. Install python-Levenshtein to remove this warning\n",
      "  warnings.warn('Using slow pure-python SequenceMatcher. Install python-Levenshtein to remove this warning')\n"
     ]
    }
   ],
   "source": [
    "import pandas as pd\n",
    "from scipy.sparse import csr_matrix\n",
    "from sklearn.neighbors import NearestNeighbors\n",
    "from fuzzywuzzy import process\n",
    "import time"
   ]
  },
  {
   "cell_type": "code",
   "execution_count": 2,
   "metadata": {},
   "outputs": [],
   "source": [
    "movies='movies.csv'\n",
    "ratings='ratings.csv'\n",
    "\n",
    "df_movies=pd.read_csv(movies, usecols=['movieId','title'], dtype={'movieId':'int32','title':'str'})\n",
    "df_ratings=pd.read_csv(ratings, usecols=['userId', 'movieId', 'rating'], dtype={'userId':'int32','movieId':'int32','rating':'float32'})"
   ]
  },
  {
   "cell_type": "code",
   "execution_count": 3,
   "metadata": {},
   "outputs": [],
   "source": [
    "#Sparse Matrix\n",
    "\n",
    "movies_users=df_ratings.pivot(index='movieId', columns='userId', values='rating').fillna(0)\n",
    "mat_movies_users=csr_matrix(movies_users.values)"
   ]
  },
  {
   "cell_type": "code",
   "execution_count": 4,
   "metadata": {},
   "outputs": [],
   "source": [
    "model_knn=NearestNeighbors(metric='cosine',algorithm='brute',n_neighbors=20)"
   ]
  },
  {
   "cell_type": "code",
   "execution_count": 5,
   "metadata": {},
   "outputs": [
    {
     "data": {
      "text/plain": [
       "NearestNeighbors(algorithm='brute', metric='cosine', n_neighbors=20)"
      ]
     },
     "execution_count": 5,
     "metadata": {},
     "output_type": "execute_result"
    }
   ],
   "source": [
    "model_knn.fit(mat_movies_users)"
   ]
  },
  {
   "cell_type": "code",
   "execution_count": 6,
   "metadata": {},
   "outputs": [],
   "source": [
    "# Recommender (movie_name) => List of Movies recommended\n",
    "def recommender(movie_name, data, model, n_recommendations):\n",
    "    print('Searching Movie Recommendations....')\n",
    "    time.sleep(2)\n",
    "    model.fit(data)\n",
    "    idx=process.extractOne(movie_name, df_movies['title'])[2]\n",
    "    \n",
    "    distances, indices = model.kneighbors(data[idx], n_neighbors=n_recommendations+1)\n",
    "    raw_recommends = sorted(list(zip(indices.squeeze().tolist(), distances.squeeze().tolist())), key=lambda x: x[1])[:0:-1] \n",
    "    moviesList = [x for x in df_movies['title']]\n",
    "    \n",
    "    recommendations = []\n",
    "    \n",
    "    for i, (idx, dist) in enumerate(raw_recommends):\n",
    "        recommendations.append(moviesList[idx])\n",
    "        \n",
    "    recommendations.reverse()\n",
    "    \n",
    "    print('\\n People who like {} may also like the following:\\n'.format(movie_name))\n",
    "    for i, x in enumerate(recommendations):\n",
    "        print(i+1, ': ',x)\n"
   ]
  },
  {
   "cell_type": "code",
   "execution_count": 10,
   "metadata": {},
   "outputs": [
    {
     "name": "stdout",
     "output_type": "stream",
     "text": [
      "Enter a movie name: Aladdin\n",
      "Searching Movie Recommendations....\n",
      "\n",
      " People who like Aladdin may also like the following:\n",
      "\n",
      "1 :  Beauty and the Beast (1991)\n",
      "2 :  Lion King, The (1994)\n",
      "3 :  Jurassic Park (1993)\n",
      "4 :  True Lies (1994)\n",
      "5 :  Batman (1989)\n",
      "6 :  Ace Ventura: Pet Detective (1994)\n",
      "7 :  Mrs. Doubtfire (1993)\n",
      "8 :  Die Hard: With a Vengeance (1995)\n",
      "9 :  Batman Forever (1995)\n",
      "10 :  Apollo 13 (1995)\n",
      "11 :  Mask, The (1994)\n",
      "12 :  Speed (1994)\n",
      "13 :  Forrest Gump (1994)\n",
      "14 :  Fugitive, The (1993)\n",
      "15 :  Dumb & Dumber (Dumb and Dumber) (1994)\n",
      "16 :  While You Were Sleeping (1995)\n",
      "17 :  Toy Story (1995)\n",
      "18 :  GoldenEye (1995)\n",
      "19 :  Babe (1995)\n",
      "20 :  Pretty Woman (1990)\n"
     ]
    }
   ],
   "source": [
    "#driver function\n",
    "movieName = input('Enter a movie name: ')\n",
    "recommender(movieName, mat_movies_users, model_knn, 20)"
   ]
  },
  {
   "cell_type": "code",
   "execution_count": null,
   "metadata": {},
   "outputs": [],
   "source": []
  }
 ],
 "metadata": {
  "kernelspec": {
   "display_name": "Python 3",
   "language": "python",
   "name": "python3"
  },
  "language_info": {
   "codemirror_mode": {
    "name": "ipython",
    "version": 3
   },
   "file_extension": ".py",
   "mimetype": "text/x-python",
   "name": "python",
   "nbconvert_exporter": "python",
   "pygments_lexer": "ipython3",
   "version": "3.8.3"
  }
 },
 "nbformat": 4,
 "nbformat_minor": 4
}
